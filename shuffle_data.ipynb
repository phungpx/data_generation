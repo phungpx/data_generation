{
 "cells": [
  {
   "cell_type": "code",
   "execution_count": 11,
   "metadata": {},
   "outputs": [],
   "source": [
    "import cv2\n",
    "from natsort import natsorted\n",
    "import random\n",
    "import numpy as np\n",
    "from pathlib import Path"
   ]
  },
  {
   "cell_type": "code",
   "execution_count": 22,
   "metadata": {},
   "outputs": [],
   "source": [
    "input_dir = 'save_path/cmnd/data_cmnd'\n",
    "train_dir = 'save_path/cmnd/train/' \n",
    "test_dir  = 'save_path/cmnd/test/'\n",
    "valid_dir = 'save_path/cmnd/valid/'"
   ]
  },
  {
   "cell_type": "code",
   "execution_count": 23,
   "metadata": {},
   "outputs": [],
   "source": [
    "train_dir = Path(train_dir)\n",
    "if not train_dir.exists():\n",
    "    train_dir.mkdir(parents=True)\n",
    "\n",
    "test_dir = Path(test_dir)\n",
    "if not test_dir.exists():\n",
    "    test_dir.mkdir(parents=True)\n",
    "\n",
    "valid_dir = Path(valid_dir)\n",
    "if not valid_dir.exists():\n",
    "    valid_dir.mkdir(parents=True)"
   ]
  },
  {
   "cell_type": "code",
   "execution_count": 37,
   "metadata": {},
   "outputs": [],
   "source": [
    "def load_data(dataset_folder):\n",
    "    dataset_folder = Path(dataset_folder)\n",
    "    image_paths = natsorted(dataset_folder.glob('*.jpg'), key=lambda x: str(x))\n",
    "    mask_paths  = natsorted(dataset_folder.glob('*.png'), key=lambda x: str(x))\n",
    "    random.seed(2020)\n",
    "    random.shuffle(image_paths)\n",
    "    random.seed(2020)\n",
    "    random.shuffle(mask_paths)\n",
    "    return image_paths, mask_paths"
   ]
  },
  {
   "cell_type": "code",
   "execution_count": 38,
   "metadata": {},
   "outputs": [],
   "source": [
    "image_paths, mask_paths = load_data(input_dir)"
   ]
  },
  {
   "cell_type": "code",
   "execution_count": 39,
   "metadata": {},
   "outputs": [
    {
     "name": "stdout",
     "output_type": "stream",
     "text": [
      "[WindowsPath('save_path/cmnd/data_cmnd/20141013_ce2450fc26d42e4e68a12HZ7fI9TC8bT34_00.jpg')]\n",
      "[WindowsPath('save_path/cmnd/data_cmnd/20141013_ce2450fc26d42e4e68a12HZ7fI9TC8bT34_00.png')]\n"
     ]
    }
   ],
   "source": [
    "print(image_paths[:1])\n",
    "print(mask_paths[:1])"
   ]
  },
  {
   "cell_type": "code",
   "execution_count": 42,
   "metadata": {},
   "outputs": [],
   "source": [
    "train_ratio, test_ratio, valid_ratio = 0.64, 0.2, 0.16\n",
    "\n",
    "train_image_paths = image_paths[:int(train_ratio * len(image_paths))]\n",
    "train_mask_paths  = mask_paths[:int(train_ratio * len(image_paths))]\n",
    "valid_image_paths = image_paths[int(train_ratio * len(image_paths)):int((train_ratio + valid_ratio) * len(image_paths))]\n",
    "valid_mask_paths  = mask_paths[int(train_ratio * len(image_paths)):int((train_ratio + valid_ratio) * len(image_paths))]\n",
    "test_image_paths  = image_paths[int((train_ratio + valid_ratio) * len(image_paths)):]\n",
    "test_mask_paths   = mask_paths[int((train_ratio + valid_ratio) * len(image_paths)):]"
   ]
  },
  {
   "cell_type": "code",
   "execution_count": 47,
   "metadata": {},
   "outputs": [],
   "source": [
    "def save_data(image_paths, mask_paths, save_dir):\n",
    "    save_dir = Path(save_dir)\n",
    "    for image_path, mask_path in zip(image_paths, mask_paths):\n",
    "        name_file = image_path.stem\n",
    "        image = cv2.imread(str(image_path))\n",
    "        mask = cv2.imread(str(mask_path))\n",
    "        cv2.imwrite(str(save_dir.joinpath(name_file + '.jpg')), image)\n",
    "        cv2.imwrite(str(save_dir.joinpath(name_file + '.png')), mask)"
   ]
  },
  {
   "cell_type": "code",
   "execution_count": 48,
   "metadata": {},
   "outputs": [],
   "source": [
    "save_data(train_image_paths, train_mask_paths, train_dir)"
   ]
  },
  {
   "cell_type": "code",
   "execution_count": 49,
   "metadata": {},
   "outputs": [],
   "source": [
    "save_data(test_image_paths, test_mask_paths, test_dir)"
   ]
  },
  {
   "cell_type": "code",
   "execution_count": 50,
   "metadata": {},
   "outputs": [],
   "source": [
    "save_data(valid_image_paths, valid_mask_paths, valid_dir)"
   ]
  },
  {
   "cell_type": "code",
   "execution_count": null,
   "metadata": {},
   "outputs": [],
   "source": []
  }
 ],
 "metadata": {
  "kernelspec": {
   "display_name": "Python 3",
   "language": "python",
   "name": "python3"
  },
  "language_info": {
   "codemirror_mode": {
    "name": "ipython",
    "version": 3
   },
   "file_extension": ".py",
   "mimetype": "text/x-python",
   "name": "python",
   "nbconvert_exporter": "python",
   "pygments_lexer": "ipython3",
   "version": "3.7.5"
  }
 },
 "nbformat": 4,
 "nbformat_minor": 2
}
